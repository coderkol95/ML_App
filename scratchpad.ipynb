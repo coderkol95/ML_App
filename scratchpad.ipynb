{
 "cells": [
  {
   "cell_type": "code",
   "execution_count": 2,
   "metadata": {},
   "outputs": [],
   "source": [
    "# from src.preprocessing import split\n",
    "from sklearn.datasets import make_regression\n",
    "X, y = make_regression(n_features=10, n_samples=1000, n_informative=7, shuffle=True)\n",
    "# X_train, X_test, y_train, y_test = split(X, y, test_size=0.2, problem_type = \"regression\")"
   ]
  },
  {
   "cell_type": "code",
   "execution_count": 3,
   "metadata": {},
   "outputs": [],
   "source": [
    "from src.preprocessor import preprocessor\n",
    "p = preprocessor(X,y)\n",
    "preprocessor = p.pipeline()"
   ]
  },
  {
   "cell_type": "code",
   "execution_count": 7,
   "metadata": {},
   "outputs": [
    {
     "data": {
      "text/plain": [
       "array([[ 0.98297618,  1.37091249, -2.03771921, ..., -0.6489254 ,\n",
       "        -0.51385936, -0.99027269],\n",
       "       [ 1.12437737,  1.5456941 , -2.22822468, ...,  0.43522653,\n",
       "         1.23387227,  1.33259009],\n",
       "       [ 0.93730638,  0.69440266,  1.11042311, ...,  0.4814172 ,\n",
       "        -0.38497045, -0.02834189],\n",
       "       ...,\n",
       "       [-0.70982442,  1.20268378,  0.86476601, ..., -0.61212195,\n",
       "         0.33029808,  0.43449984],\n",
       "       [ 0.61615493,  0.18486722, -0.15578655, ..., -2.12856806,\n",
       "         0.53219931, -0.01537747],\n",
       "       [ 1.18605977,  0.14630212,  0.28392945, ...,  1.11862372,\n",
       "         0.24633144,  0.94458338]])"
      ]
     },
     "execution_count": 7,
     "metadata": {},
     "output_type": "execute_result"
    }
   ],
   "source": [
    "preprocessor.fit_transform(p.X)"
   ]
  },
  {
   "cell_type": "code",
   "execution_count": null,
   "metadata": {},
   "outputs": [],
   "source": []
  }
 ],
 "metadata": {
  "kernelspec": {
   "display_name": "Python 3.9.9 ('machine_learning')",
   "language": "python",
   "name": "python3"
  },
  "language_info": {
   "codemirror_mode": {
    "name": "ipython",
    "version": 3
   },
   "file_extension": ".py",
   "mimetype": "text/x-python",
   "name": "python",
   "nbconvert_exporter": "python",
   "pygments_lexer": "ipython3",
   "version": "3.9.13"
  },
  "orig_nbformat": 4,
  "vscode": {
   "interpreter": {
    "hash": "9ec1ccfe0d98e93cd3ff8953cac9364163407fba13736c55f90cf8afe7e68d85"
   }
  }
 },
 "nbformat": 4,
 "nbformat_minor": 2
}
