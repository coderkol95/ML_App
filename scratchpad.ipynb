{
 "cells": [
  {
   "cell_type": "code",
   "execution_count": 1,
   "metadata": {},
   "outputs": [],
   "source": [
    "from sklearn.datasets import make_regression\n",
    "X, y = make_regression(n_features=10, n_samples=1000, n_informative=7, shuffle=True)"
   ]
  },
  {
   "cell_type": "code",
   "execution_count": 2,
   "metadata": {},
   "outputs": [],
   "source": [
    "from src.preprocessor import preprocessor\n",
    "p = preprocessor(X,y)"
   ]
  },
  {
   "cell_type": "code",
   "execution_count": 4,
   "metadata": {},
   "outputs": [
    {
     "data": {
      "text/plain": [
       "array([[0.49621602, 0.62237285, 0.69671447, ..., 0.69612038, 0.75658442,\n",
       "        0.50840861],\n",
       "       [0.64280736, 0.18369443, 0.64408043, ..., 0.48044413, 0.88329631,\n",
       "        0.64562818],\n",
       "       [0.29708179, 0.69786059, 0.55250461, ..., 0.73720434, 0.53335971,\n",
       "        0.76880253],\n",
       "       ...,\n",
       "       [0.68997427, 0.52634292, 0.61338197, ..., 0.45264734, 0.69853044,\n",
       "        0.5359176 ],\n",
       "       [0.52419827, 0.53342359, 0.73999299, ..., 0.37419826, 0.78625879,\n",
       "        0.78243728],\n",
       "       [0.42720168, 0.64713516, 0.49851709, ..., 0.27198344, 0.46306448,\n",
       "        0.50574719]])"
      ]
     },
     "execution_count": 4,
     "metadata": {},
     "output_type": "execute_result"
    }
   ],
   "source": [
    "p.split()\n",
    "from options.preprocessing_options import preprocessing_opts, encoding_params, imputation_params, scaling_params\n",
    "\n",
    "p.fit(numeric_imputer = preprocessing_opts['imputation']['KNNImputer'],\n",
    "numeric_scaler = preprocessing_opts['scaling']['MinMaxScaler'],\n",
    "categorical_imputer = preprocessing_opts['imputation']['KNNImputer'],\n",
    "categorical_encoder = preprocessing_opts['encoding']['OneHotEncoder'])"
   ]
  },
  {
   "cell_type": "code",
   "execution_count": 27,
   "metadata": {},
   "outputs": [],
   "source": [
    "params = imputation_params[\"KNNImputer\"]\n",
    "param_keys = list(params.keys())\n",
    "param_vals = list(params.values())\n",
    "p.numeric_pipeline.named_steps.imputer_num.param_keys = param_vals"
   ]
  },
  {
   "cell_type": "code",
   "execution_count": null,
   "metadata": {},
   "outputs": [],
   "source": []
  }
 ],
 "metadata": {
  "kernelspec": {
   "display_name": "Python 3.9.9 ('machine_learning')",
   "language": "python",
   "name": "python3"
  },
  "language_info": {
   "codemirror_mode": {
    "name": "ipython",
    "version": 3
   },
   "file_extension": ".py",
   "mimetype": "text/x-python",
   "name": "python",
   "nbconvert_exporter": "python",
   "pygments_lexer": "ipython3",
   "version": "3.9.13"
  },
  "orig_nbformat": 4,
  "vscode": {
   "interpreter": {
    "hash": "9ec1ccfe0d98e93cd3ff8953cac9364163407fba13736c55f90cf8afe7e68d85"
   }
  }
 },
 "nbformat": 4,
 "nbformat_minor": 2
}
