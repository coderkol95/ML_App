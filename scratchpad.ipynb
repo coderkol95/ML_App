{
 "cells": [
  {
   "cell_type": "markdown",
   "metadata": {},
   "source": [
    "# Pipeline"
   ]
  },
  {
   "cell_type": "code",
   "execution_count": 1,
   "metadata": {},
   "outputs": [],
   "source": [
    "from sklearn.datasets import make_regression\n",
    "from src.preprocessor import preprocessor\n",
    "from src.modeller import modeller\n",
    "from options.options import preprocessing_opts, ml_algos, param_spaces\n",
    "\n",
    "X, y = make_regression(n_features=10, n_samples=1000, n_informative=7, shuffle=True)\n"
   ]
  },
  {
   "cell_type": "code",
   "execution_count": null,
   "metadata": {},
   "outputs": [],
   "source": [
    "from sklearn.datasets import make_regression\n",
    "from src.preprocessor import preprocessor\n",
    "from src.modeller import modeller\n",
    "from options.options import preprocessing_opts, ml_algos, param_spaces\n",
    "\n",
    "X, y = make_regression(n_features=10, n_samples=1000, n_informative=7, shuffle=True)\n",
    "\n",
    "dp = preprocessor(X,y)\n",
    "dp.fit_transform(\n",
    "numeric_imputer = preprocessing_opts['imputation']['KNNImputer'],\n",
    "numeric_scaler = preprocessing_opts['scaling']['MinMaxScaler'],\n",
    "categorical_imputer = preprocessing_opts['imputation']['KNNImputer'],\n",
    "categorical_encoder = preprocessing_opts['encoding']['OneHotEncoder'])\n",
    "\n",
    "dp.transform()\n",
    "\n",
    "mp = modeller(model = ml_algos['LinearRegression'], \n",
    "                    scoring_technique = 'neg_mean_squared_error', \n",
    "                    param_space=param_spaces['LinearRegression'], \n",
    "                    max_evals=10)\n",
    "\n",
    "mp.fit(dp.X_train, dp.y_train)\n",
    "y_pred = mp.predict(dp.X_test)"
   ]
  },
  {
   "cell_type": "code",
   "execution_count": 2,
   "metadata": {},
   "outputs": [],
   "source": [
    "dp = preprocessor(X,y)\n",
    "# .preprocessor_pipe\n"
   ]
  },
  {
   "cell_type": "code",
   "execution_count": 3,
   "metadata": {},
   "outputs": [],
   "source": [
    "mp = modeller(model = ml_algos['LinearRegression'], \n",
    "                scoring_technique = 'neg_mean_squared_error', \n",
    "                param_space=param_spaces['LinearRegression'], \n",
    "                max_evals=10)"
   ]
  },
  {
   "cell_type": "code",
   "execution_count": 5,
   "metadata": {},
   "outputs": [],
   "source": [
    "from sklearn.pipeline import Pipeline\n",
    "\n",
    "machine_learning_pipeline = Pipeline([('model', mp.model)])"
   ]
  },
  {
   "cell_type": "code",
   "execution_count": null,
   "metadata": {},
   "outputs": [],
   "source": [
    "machine_learning_pipeline.predict(X)"
   ]
  },
  {
   "cell_type": "code",
   "execution_count": null,
   "metadata": {},
   "outputs": [],
   "source": []
  }
 ],
 "metadata": {
  "kernelspec": {
   "display_name": "Python 3.9.9 ('machine_learning')",
   "language": "python",
   "name": "python3"
  },
  "language_info": {
   "codemirror_mode": {
    "name": "ipython",
    "version": 3
   },
   "file_extension": ".py",
   "mimetype": "text/x-python",
   "name": "python",
   "nbconvert_exporter": "python",
   "pygments_lexer": "ipython3",
   "version": "3.9.13"
  },
  "orig_nbformat": 4,
  "vscode": {
   "interpreter": {
    "hash": "9ec1ccfe0d98e93cd3ff8953cac9364163407fba13736c55f90cf8afe7e68d85"
   }
  }
 },
 "nbformat": 4,
 "nbformat_minor": 2
}
