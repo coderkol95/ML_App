{
 "cells": [
  {
   "cell_type": "code",
   "execution_count": 1,
   "metadata": {},
   "outputs": [],
   "source": [
    "# from src.preprocessing import split\n",
    "from sklearn.datasets import make_regression\n",
    "X, y = make_regression(n_features=10, n_samples=1000, n_informative=7, shuffle=True)\n",
    "# X_train, X_test, y_train, y_test = split(X, y, test_size=0.2, problem_type = \"regression\")"
   ]
  },
  {
   "cell_type": "code",
   "execution_count": 2,
   "metadata": {},
   "outputs": [],
   "source": [
    "from src.preprocessor import preprocessor\n",
    "p = preprocessor(X,y)"
   ]
  },
  {
   "cell_type": "code",
   "execution_count": 8,
   "metadata": {},
   "outputs": [],
   "source": [
    "from options.preprocessing_options import preprocessing_opts\n",
    "preprocessor = p.pipeline(\n",
    "    numeric_imputer = preprocessing_opts['imputation']['knn_imputer'],\n",
    "    categorical_imputer = preprocessing_opts['scaling']['min_max_scaler'],\n",
    "    numeric_scaler = preprocessing_opts['imputation']['knn_imputer'],\n",
    "    categorical_encoder = preprocessing_opts['encoding']['onehot_encoder']\n",
    ")"
   ]
  },
  {
   "cell_type": "code",
   "execution_count": 9,
   "metadata": {},
   "outputs": [
    {
     "data": {
      "text/plain": [
       "array([[-0.46932143, -0.18914809,  1.80130802, ...,  0.6646729 ,\n",
       "        -0.94711939, -1.5778933 ],\n",
       "       [-1.63598659, -0.27161739, -0.25172682, ...,  0.82282917,\n",
       "        -0.9841638 ,  0.25738983],\n",
       "       [ 1.30932093,  0.27656019,  0.47967891, ..., -0.52840851,\n",
       "         0.29115209,  2.58804714],\n",
       "       ...,\n",
       "       [ 0.37854725,  1.07117099, -1.21984571, ..., -0.04826624,\n",
       "         0.93246099, -0.00903234],\n",
       "       [ 0.75331091,  0.10043838,  1.04829694, ...,  0.29045863,\n",
       "         1.71244484, -0.8334288 ],\n",
       "       [-0.68208334, -0.50721389, -0.21548053, ..., -1.23771755,\n",
       "        -0.02812493,  1.11733945]])"
      ]
     },
     "execution_count": 9,
     "metadata": {},
     "output_type": "execute_result"
    }
   ],
   "source": [
    "preprocessor.fit_transform(p.X)"
   ]
  },
  {
   "cell_type": "code",
   "execution_count": null,
   "metadata": {},
   "outputs": [],
   "source": []
  }
 ],
 "metadata": {
  "kernelspec": {
   "display_name": "Python 3.9.9 ('machine_learning')",
   "language": "python",
   "name": "python3"
  },
  "language_info": {
   "codemirror_mode": {
    "name": "ipython",
    "version": 3
   },
   "file_extension": ".py",
   "mimetype": "text/x-python",
   "name": "python",
   "nbconvert_exporter": "python",
   "pygments_lexer": "ipython3",
   "version": "3.9.13"
  },
  "orig_nbformat": 4,
  "vscode": {
   "interpreter": {
    "hash": "9ec1ccfe0d98e93cd3ff8953cac9364163407fba13736c55f90cf8afe7e68d85"
   }
  }
 },
 "nbformat": 4,
 "nbformat_minor": 2
}
