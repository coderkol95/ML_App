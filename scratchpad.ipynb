{
 "cells": [
  {
   "cell_type": "markdown",
   "metadata": {},
   "source": [
    "## Preprocessing"
   ]
  },
  {
   "cell_type": "code",
   "execution_count": null,
   "metadata": {},
   "outputs": [],
   "source": [
    "from src.preprocessor import preprocessor\n",
    "p = preprocessor(X,y)"
   ]
  },
  {
   "cell_type": "code",
   "execution_count": null,
   "metadata": {},
   "outputs": [],
   "source": [
    "from sklearn.datasets import make_regression\n",
    "X, y = make_regression(n_features=10, n_samples=1000, n_informative=7, shuffle=True)"
   ]
  },
  {
   "cell_type": "code",
   "execution_count": null,
   "metadata": {},
   "outputs": [],
   "source": [
    "p.split()\n",
    "from options.preprocessing_options import preprocessing_opts, encoding_params, imputation_params, scaling_params\n",
    "\n",
    "p.fit(numeric_imputer = preprocessing_opts['imputation']['KNNImputer'],\n",
    "numeric_scaler = preprocessing_opts['scaling']['MinMaxScaler'],\n",
    "categorical_imputer = preprocessing_opts['imputation']['KNNImputer'],\n",
    "categorical_encoder = preprocessing_opts['encoding']['OneHotEncoder'])"
   ]
  },
  {
   "cell_type": "code",
   "execution_count": null,
   "metadata": {},
   "outputs": [],
   "source": [
    "params = imputation_params[\"KNNImputer\"]\n",
    "param_keys = list(params.keys())\n",
    "param_vals = list(params.values())\n",
    "p.numeric_pipeline.named_steps.imputer_num.param_keys = param_vals"
   ]
  },
  {
   "cell_type": "markdown",
   "metadata": {},
   "source": [
    "## Modelling"
   ]
  },
  {
   "cell_type": "code",
   "execution_count": 1,
   "metadata": {},
   "outputs": [],
   "source": [
    "from sklearn.datasets import make_regression\n",
    "X, y = make_regression(n_features=10, n_samples=1000, n_informative=7, shuffle=True)\n",
    "from src.modeller import modeller\n",
    "from hyperopt import hp, fmin, tpe, Trials, STATUS_OK\n",
    "from hyperopt.pyll import scope\n",
    "from sklearn.linear_model import LinearRegression\n",
    "param_space_LinearRegression = {'fit_intercept':hp.choice('fit_intercept',[True, False]),\n",
    "'positive':hp.choice('positive',[True, False])}\n",
    "modelpipe = modeller(\n",
    "    model = LinearRegression(), scoring_technique = 'neg_mean_squared_error', param_space=param_space_LinearRegression, max_evals=10)"
   ]
  },
  {
   "cell_type": "code",
   "execution_count": 2,
   "metadata": {},
   "outputs": [
    {
     "name": "stdout",
     "output_type": "stream",
     "text": [
      "100%|██████████| 10/10 [00:00<00:00, 143.39trial/s, best loss: -1.062619719533437e-25]\n"
     ]
    }
   ],
   "source": [
    "modelpipe.fit(X,y)\n",
    "modelpipe.predict(X)"
   ]
  },
  {
   "cell_type": "code",
   "execution_count": null,
   "metadata": {},
   "outputs": [],
   "source": []
  }
 ],
 "metadata": {
  "kernelspec": {
   "display_name": "Python 3.9.9 ('machine_learning')",
   "language": "python",
   "name": "python3"
  },
  "language_info": {
   "codemirror_mode": {
    "name": "ipython",
    "version": 3
   },
   "file_extension": ".py",
   "mimetype": "text/x-python",
   "name": "python",
   "nbconvert_exporter": "python",
   "pygments_lexer": "ipython3",
   "version": "3.9.13"
  },
  "orig_nbformat": 4,
  "vscode": {
   "interpreter": {
    "hash": "9ec1ccfe0d98e93cd3ff8953cac9364163407fba13736c55f90cf8afe7e68d85"
   }
  }
 },
 "nbformat": 4,
 "nbformat_minor": 2
}
